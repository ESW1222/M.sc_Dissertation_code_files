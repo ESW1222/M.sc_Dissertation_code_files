{
  "cells": [
    {
      "cell_type": "code",
      "execution_count": null,
      "metadata": {
        "colab": {
          "background_save": true
        },
        "id": "4aXg4LTgS5Hn"
      },
      "outputs": [],
      "source": [
        "import pandas as pd\n",
        "from textblob import TextBlob\n",
        "df=pd.read_csv(\"/content/Tweets_file.csv\")\n",
        "df[\"text\"]=df[\"text\"].astype(str)\n",
        "df[\"polarity\"]=df[\"text\"].apply(lambda x:TexrBlob(x).sentiment.polarity)\n",
        "df[\"sentiment\"]=df[\"polarity\"].apply(lambda x: \"positive\" if x>0 else (\"negative\" if x<0 else \"neutral\n",
        ")\n",
        "df.to_csv(\"tweets_sentiment.csv\",index=False)\n",
        "print(\"Sentiment analysis completed and saved to tweets_with_sentiment.csv\")"
      ]
    }
  ],
  "metadata": {
    "colab": {
      "provenance": []
    },
    "kernelspec": {
      "display_name": "Python 3",
      "name": "python3"
    },
    "language_info": {
      "name": "python"
    }
  },
  "nbformat": 4,
  "nbformat_minor": 0
}