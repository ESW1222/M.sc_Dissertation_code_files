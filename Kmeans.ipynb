{
  "nbformat": 4,
  "nbformat_minor": 0,
  "metadata": {
    "colab": {
      "provenance": []
    },
    "kernelspec": {
      "name": "python3",
      "display_name": "Python 3"
    },
    "language_info": {
      "name": "python"
    }
  },
  "cells": [
    {
      "cell_type": "code",
      "execution_count": null,
      "metadata": {
        "id": "iFhikLLbS9Id"
      },
      "outputs": [],
      "source": [
        "import pandas as pd\n",
        "from sklearn preprocessing import Standard Scaler\n",
        "from sklearn.model_selection import KMeans\n",
        "import numpy as np\n",
        "\n",
        "csv_path=csv_path = \"/content/country_misinfo_vax_percent_clean (2).csv\" # same columns: country, misinfo_percent, vax_percent\n",
        "k = 3\n",
        "df = pd.read_csv(csv_path)\n",
        "df.head()\n",
        "X=df[[\"misinfo_percent\",\"vax_percent\"]].astype(float)\n",
        "X_scaled=StandardScaler().fit_transform(X)\n",
        "lables=KMeans(n_clusters=k).fit_predict(X_scaled)\n",
        "df[\"cluster\"]=lables\n",
        "plt.figure(figsize=(12,8))\n",
        "sc=plt.scatter(df[\"misinfo_percent\"],df[\"vax_percent\"]\n",
        "c=df[\"cluster\"],cmap='viridis')\n",
        "for r in df.iterrows():\n",
        "plt.text(r[1][\"misinfo_percent\"]+0.2,r[\"misinfo_percent\"]=0.2,r[\"country\"],fontsize=8)\n",
        "plt.xlabel(\"Vaccination %\")\n",
        "plt.ylabel(\"Misinformation %\")\n",
        "plt.title(\"Vaccination vs Misinformation by Country\")\n",
        "plt.colorbar(sc)\n",
        "plt.show()\n"
      ]
    }
  ]
}