{
  "nbformat": 4,
  "nbformat_minor": 0,
  "metadata": {
    "colab": {
      "provenance": []
    },
    "kernelspec": {
      "name": "python3",
      "display_name": "Python 3"
    },
    "language_info": {
      "name": "python"
    }
  },
  "cells": [
    {
      "cell_type": "code",
      "execution_count": null,
      "metadata": {
        "id": "3GvN8zYdP7Or"
      },
      "outputs": [],
      "source": [
        "import pandas as pd\n",
        "import matplotlib.pyplot as plt\n",
        "import seaborn as sns\n",
        "\n",
        "#loading the data set\n",
        "df=pd.read_csv(\"/content/vaccination_and_sentiment_analysis_ireland.csv\")\n",
        "\n",
        "\n",
        "#calculate 7-day moving averages to smooth out daily fluctuations\n",
        "df['vaccinated_7d']=df['daily_vaccinated'].rolling(window=7).mean()\n",
        "df['positive_7d']=df['daily_positive'].rolling(window=7).mean()\n",
        "df['negative_7d']=df['negative'].rolling(window=7).mean()\n",
        "\n",
        "# plotting vaccinations vs sentimnet over time\n",
        "\n",
        "sns.set(style=\"whitegrid\")\n",
        "\n",
        "fig,ax1=plt.subplots(figsize=(16,6))\n",
        "\n",
        "#Left Y-Axis daily vaccinations (bars)\n",
        "ax1.bar(df['date'],df['vaccinated_7d'],color='orange',alpha=0.6,label='vaccinated (7-day Avg)')\n",
        "ax1.set_ylabel(\"Daily Vaccinated\",color='orange',fontsize=12)\n",
        "ax1.tick_params(axis='y',labelcolor='orange')\n",
        "ax1.tick_xlabel(\"Date\",fontsize=12)\n",
        "ax1.tick_params(axis='x',rotation=45)\n",
        "\n",
        "#Right Y-axis sentiment trends\n",
        "ax2=ax1.twinx()\n",
        "ax2.plot(df['date'],df['positive_7d'],label='positive (7-day Avg)',color='green',linewidth=2\n",
        "ax2.plot(df['date'],df['negative_7d'],label='negative (7-day Avg)',color='gray'.linewidth=2)\n",
        "ax2.plot(df['date'],df['neutral_7d'],label='neutral (7-day Avg)',color='red',linewidth=2)\n",
        "ax2.set_ylabel(\"Sentiment\",color='black',fontsize=12)\n",
        "ax2.tick_params(axis='y',labelcolor='black')\n",
        "\n",
        "#title and styling\n",
        "plt.title(\"COVID-19 Vaccination vs Twitter Sentiment(Ireland)\"),\n",
        "         fontsize=14,weight='bold')\n",
        "ax1.grid(True,linestyle='--',alpha=0.5)\n",
        "\n",
        "# combining\n",
        "lines1.labels1=ax1.get_legend_handles_lables()\n",
        "lines2,labelss2=ax2.get_legend_handles_lables()\n",
        "ax1.legend(lines1+lines2,labels1+labels2,loc='upper left')\n",
        "plt.tight_layout()\n",
        "plt.show()\n"
      ]
    }
  ]
}